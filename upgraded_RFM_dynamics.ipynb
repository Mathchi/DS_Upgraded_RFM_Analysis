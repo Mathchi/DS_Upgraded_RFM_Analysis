{
 "cells": [
  {
   "cell_type": "markdown",
   "metadata": {},
   "source": [
    "\n",
    "# Business Problem with Customer Segmentation (RFM ANALYSIS)\n",
    "\n",
    "An e-commerce company wants to segment its customers and determine marketing strategies according to these segments.\n",
    "\n",
    "For this purpose, we will define the behavior of customers and we will form groups according to clustering.\n",
    "\n",
    "In other words, we will take those who exhibit common behaviors into the same groups and we will try to develop sales and marketing techniques specific to these groups.\n",
    "\n",
    "\n",
    "## Data Set Story:\n",
    "\n",
    "https://archive.ics.uci.edu/ml/datasets/Online+Retail+II\n",
    "\n",
    "This Online Retail II data set contains all the transactions occurring for a UK-based and registered, non-store online retail between 01/12/2009 and 09/12/2011.\n",
    "\n",
    "The company mainly sells unique all-occasion gift-ware.\n",
    "\n",
    "Many customers of the company are wholesalers.\n",
    "\n",
    "\n",
    "## Attribute Information:\n",
    "\n",
    "    InvoiceNo: Invoice number. Nominal. A 6-digit integral number uniquely assigned to each transaction. If this code starts with the letter 'c', it indicates a cancellation.\n",
    "    StockCode: Product (item) code. Nominal. A 5-digit integral number uniquely assigned to each distinct product.\n",
    "    Description: Product (item) name. Nominal.\n",
    "    Quantity: The quantities of each product (item) per transaction. Numeric.\n",
    "    InvoiceDate: Invice date and time. Numeric. The day and time when a transaction was generated.\n",
    "    UnitPrice: Unit price. Numeric. Product price per unit in sterling (Â£).\n",
    "    CustomerID: Customer number. Nominal. A 5-digit integral number uniquely assigned to each customer.\n",
    "    Country: Country name. Nominal. The name of the country where a customer resides.\n",
    "\n",
    "I have already shared the code for RFM Analysis in both Kaggle(https://www.kaggle.com/mathchi/business-problem-with-customer-segmentation) and github(https://github.com/Mathchi/Customer-Segmentation-with-RFM-Analysis) accounts. Now I tried to make this more dynamic. I hope it will be useful for everyone."
   ]
  },
  {
   "cell_type": "markdown",
   "metadata": {},
   "source": [
    "## 1. Library Loading "
   ]
  },
  {
   "cell_type": "code",
   "execution_count": 1,
   "metadata": {},
   "outputs": [
    {
     "name": "stdout",
     "output_type": "stream",
     "text": [
      " > > > > > > > > > > > > > > \t n.B.a. \t < < < < < < < < < < < < < <  \n",
      "\n",
      "\n",
      "\n"
     ]
    }
   ],
   "source": [
    "import datetime as dt\n",
    "import pandas as pd\n",
    "from sklearn.preprocessing import MinMaxScaler\n",
    "from lifetimes import BetaGeoFitter\n",
    "from lifetimes import GammaGammaFitter\n",
    "\n",
    "pd.set_option('display.max_columns', None)\n",
    "\n",
    "print(14 * \" >\", \"\\t n.B.a. \\t\", \"< \" * 14, \"\\n\\n\\n\")"
   ]
  },
  {
   "cell_type": "markdown",
   "metadata": {},
   "source": [
    "## 2. Data Loading"
   ]
  },
  {
   "cell_type": "code",
   "execution_count": 2,
   "metadata": {},
   "outputs": [],
   "source": [
    "df_ = pd.read_excel(\"C:\\\\Users\\\\gebruiker\\\\Desktop\\\\Data Science\\\\VBO\\\\vbo venv\\\\DSMLBC4\\\\202101\\\\HAFTA_03\\\\Ders Notları\\\\online_retail_II.xlsx\",\n",
    "                    sheet_name=\"Year 2010-2011\")\n",
    "df = df_.copy()"
   ]
  },
  {
   "cell_type": "markdown",
   "metadata": {},
   "source": [
    "## 3. Data Preperation"
   ]
  },
  {
   "cell_type": "code",
   "execution_count": 3,
   "metadata": {},
   "outputs": [],
   "source": [
    "df.dropna(inplace=True)\n",
    "df = df[~df[\"Invoice\"].str.contains(\"C\", na=False)]\n",
    "df = df[df[\"Quantity\"] > 0]\n",
    "df[\"TotalPrice\"] = df[\"Quantity\"] * df[\"Price\"]\n",
    "\n",
    "\n",
    "def check_df(dataframe):\n",
    "    print(f\"\"\"##################### Shape #####################\\n\n",
    "{df.shape}\\n\\n\n",
    "##################### Types #####################\\n\n",
    "{df.dtypes}\\n\\n\n",
    "##################### Head #####################\\n\n",
    "{df.head(3)}\\n\\n\n",
    "##################### NA #####################\\n\n",
    "{df.isnull().sum()}\\n\\n\n",
    "##################### Quantiles #####################\\n\n",
    "{df.quantile([0, 0.05, 0.50, 0.95, 0.99, 1]).T}\\n\\n\"\"\")\n",
    "\n",
    "\n",
    "def outlier_thresholds(dataframe, variable):\n",
    "    quartile1 = dataframe[variable].quantile(0.01)\n",
    "    quartile3 = dataframe[variable].quantile(0.99)\n",
    "    interquantile_range = quartile3 - quartile1\n",
    "    up_limit = quartile3 + 1.5 * interquantile_range\n",
    "    low_limit = quartile1 - 1.5 * interquantile_range\n",
    "    return low_limit, up_limit\n",
    "\n",
    "\n",
    "def replace_with_thresholds(dataframe, variable):\n",
    "    low_limit, up_limit = outlier_thresholds(dataframe, variable)\n",
    "    # dataframe.loc[(dataframe[variable] < low_limit), variable] = low_limit\n",
    "    dataframe.loc[(dataframe[variable] > up_limit), variable] = up_limit\n",
    "    \n",
    "\n",
    "#check_df(df)\n",
    "replace_with_thresholds(df, \"Quantity\")\n",
    "replace_with_thresholds(df, \"Price\")"
   ]
  },
  {
   "cell_type": "markdown",
   "metadata": {},
   "source": [
    "## 4. Creating RFM Segments"
   ]
  },
  {
   "cell_type": "code",
   "execution_count": 4,
   "metadata": {},
   "outputs": [
    {
     "data": {
      "text/html": [
       "<div>\n",
       "<style scoped>\n",
       "    .dataframe tbody tr th:only-of-type {\n",
       "        vertical-align: middle;\n",
       "    }\n",
       "\n",
       "    .dataframe tbody tr th {\n",
       "        vertical-align: top;\n",
       "    }\n",
       "\n",
       "    .dataframe thead th {\n",
       "        text-align: right;\n",
       "    }\n",
       "</style>\n",
       "<table border=\"1\" class=\"dataframe\">\n",
       "  <thead>\n",
       "    <tr style=\"text-align: right;\">\n",
       "      <th></th>\n",
       "      <th>recency</th>\n",
       "      <th>frequency</th>\n",
       "      <th>monetary</th>\n",
       "      <th>rfm_segment</th>\n",
       "    </tr>\n",
       "    <tr>\n",
       "      <th>Customer ID</th>\n",
       "      <th></th>\n",
       "      <th></th>\n",
       "      <th></th>\n",
       "      <th></th>\n",
       "    </tr>\n",
       "  </thead>\n",
       "  <tbody>\n",
       "    <tr>\n",
       "      <th>12346.0</th>\n",
       "      <td>326</td>\n",
       "      <td>1</td>\n",
       "      <td>77183.60</td>\n",
       "      <td>hibernating</td>\n",
       "    </tr>\n",
       "    <tr>\n",
       "      <th>12347.0</th>\n",
       "      <td>3</td>\n",
       "      <td>7</td>\n",
       "      <td>4310.00</td>\n",
       "      <td>champions</td>\n",
       "    </tr>\n",
       "    <tr>\n",
       "      <th>12348.0</th>\n",
       "      <td>76</td>\n",
       "      <td>4</td>\n",
       "      <td>1797.24</td>\n",
       "      <td>at_risk</td>\n",
       "    </tr>\n",
       "    <tr>\n",
       "      <th>12349.0</th>\n",
       "      <td>19</td>\n",
       "      <td>1</td>\n",
       "      <td>1757.55</td>\n",
       "      <td>promising</td>\n",
       "    </tr>\n",
       "    <tr>\n",
       "      <th>12350.0</th>\n",
       "      <td>311</td>\n",
       "      <td>1</td>\n",
       "      <td>334.40</td>\n",
       "      <td>hibernating</td>\n",
       "    </tr>\n",
       "  </tbody>\n",
       "</table>\n",
       "</div>"
      ],
      "text/plain": [
       "             recency  frequency  monetary  rfm_segment\n",
       "Customer ID                                           \n",
       "12346.0          326          1  77183.60  hibernating\n",
       "12347.0            3          7   4310.00    champions\n",
       "12348.0           76          4   1797.24      at_risk\n",
       "12349.0           19          1   1757.55    promising\n",
       "12350.0          311          1    334.40  hibernating"
      ]
     },
     "execution_count": 4,
     "metadata": {},
     "output_type": "execute_result"
    }
   ],
   "source": [
    "def create_rfm(dataframe):\n",
    "    # Calculation of RFM Metrics\n",
    "    # Attention! Frequencies for RFM nunique.\n",
    "\n",
    "    today_date = dt.datetime(2011, 12, 11)\n",
    "\n",
    "    rfm = dataframe.groupby('Customer ID').agg({'InvoiceDate': lambda date: (today_date - date.max()).days,\n",
    "                                                'Invoice': lambda num: num.nunique(),\n",
    "                                                \"TotalPrice\": lambda price: price.sum()})\n",
    "\n",
    "    rfm.columns = ['recency', 'frequency', \"monetary\"]\n",
    "\n",
    "    rfm = rfm[(rfm['monetary'] > 0)]\n",
    "\n",
    "\n",
    "    # Calculation of RFM Scores\n",
    "    rfm[\"recency_score\"] = pd.qcut(rfm['recency'], 5, labels=[5, 4, 3, 2, 1])\n",
    "    rfm[\"frequency_score\"] = pd.qcut(rfm[\"frequency\"].rank(method=\"first\"), 5, labels=[1, 2, 3, 4, 5])\n",
    "\n",
    "    # Monetary segment tanımlamada kullanılmadığı için işlemlere alınmadı.\n",
    "\n",
    "    # Naming Segments\n",
    "    rfm['rfm_segment'] = rfm['recency_score'].astype(str) + rfm['frequency_score'].astype(str)\n",
    "\n",
    "    seg_map = {\n",
    "        r'[1-2][1-2]': 'hibernating',\n",
    "        r'[1-2][3-4]': 'at_risk',\n",
    "        r'[1-2]5': 'cant_loose',\n",
    "        r'3[1-2]': 'about_to_sleep',\n",
    "        r'33': 'need_attention',\n",
    "        r'[3-4][4-5]': 'loyal_customers',\n",
    "        r'41': 'promising',\n",
    "        r'51': 'new_customers',\n",
    "        r'[4-5][2-3]': 'potential_loyalists',\n",
    "        r'5[4-5]': 'champions'\n",
    "    }\n",
    "\n",
    "    rfm['rfm_segment'] = rfm['rfm_segment'].replace(seg_map, regex=True)\n",
    "    rfm = rfm[[\"recency\", \"frequency\", \"monetary\", \"rfm_segment\"]]\n",
    "    return rfm\n",
    "\n",
    "\n",
    "rfm = create_rfm(df)\n",
    "rfm.head()"
   ]
  },
  {
   "cell_type": "markdown",
   "metadata": {},
   "source": [
    "## Conclusion\n",
    "\n",
    "- After this notebook, my aim is try to further develop my other works.\n",
    "\n",
    "- If you have any suggestions, please could you write for me? I wil be happy for comment and critics!\n",
    "\n",
    "- Thank you for your suggestion and votes ;)"
   ]
  },
  {
   "cell_type": "code",
   "execution_count": 5,
   "metadata": {},
   "outputs": [
    {
     "data": {
      "image/png": "[encoded data removed]",
      "text/plain": [
       "<IPython.core.display.Image object>"
      ]
     },
     "execution_count": 5,
     "metadata": {},
     "output_type": "execute_result"
    }
   ],
   "source": [
    "from IPython.display import Image\n",
    "Image(\"C:/Users/gebruiker/Downloads/mathchi1.png\")"
   ]
  }
 ],
 "metadata": {
  "kernelspec": {
   "display_name": "Python 3",
   "language": "python",
   "name": "python3"
  },
  "language_info": {
   "codemirror_mode": {
    "name": "ipython",
    "version": 3
   },
   "file_extension": ".py",
   "mimetype": "text/x-python",
   "name": "python",
   "nbconvert_exporter": "python",
   "pygments_lexer": "ipython3",
   "version": "3.8.5"
  }
 },
 "nbformat": 4,
 "nbformat_minor": 4
}
